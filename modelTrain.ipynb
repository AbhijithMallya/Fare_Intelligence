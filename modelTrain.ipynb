{
 "cells": [
  {
   "cell_type": "code",
   "execution_count": 21,
   "id": "73960425-ef87-4d94-a0d5-8dd3c106b7ad",
   "metadata": {},
   "outputs": [],
   "source": [
    "#Importing the necessary libraries\n",
    "import numpy as np\n",
    "import pandas as pd\n",
    "import matplotlib.pyplot as plt\n",
    "from sklearn.model_selection import train_test_split\n",
    "from sklearn.ensemble import GradientBoostingRegressor\n",
    "from sklearn.model_selection import RandomizedSearchCV"
   ]
  },
  {
   "cell_type": "code",
   "execution_count": 4,
   "id": "a216a63c-f206-4bcf-ae23-1ca1f7f70bbd",
   "metadata": {},
   "outputs": [
    {
     "data": {
      "text/html": [
       "<div>\n",
       "<style scoped>\n",
       "    .dataframe tbody tr th:only-of-type {\n",
       "        vertical-align: middle;\n",
       "    }\n",
       "\n",
       "    .dataframe tbody tr th {\n",
       "        vertical-align: top;\n",
       "    }\n",
       "\n",
       "    .dataframe thead th {\n",
       "        text-align: right;\n",
       "    }\n",
       "</style>\n",
       "<table border=\"1\" class=\"dataframe\">\n",
       "  <thead>\n",
       "    <tr style=\"text-align: right;\">\n",
       "      <th></th>\n",
       "      <th>baseFare</th>\n",
       "      <th>reservationCharge</th>\n",
       "      <th>superfastCharge</th>\n",
       "      <th>fuelAmount</th>\n",
       "      <th>totalConcession</th>\n",
       "      <th>tatkalFare</th>\n",
       "      <th>serviceTax</th>\n",
       "      <th>otherCharge</th>\n",
       "      <th>cateringCharge</th>\n",
       "      <th>dynamicFare</th>\n",
       "      <th>totalFare</th>\n",
       "      <th>availability</th>\n",
       "      <th>trainNumber</th>\n",
       "      <th>timeStamp</th>\n",
       "      <th>fromStnCode</th>\n",
       "      <th>toStnCode</th>\n",
       "      <th>classCode</th>\n",
       "      <th>distance</th>\n",
       "      <th>duration</th>\n",
       "    </tr>\n",
       "  </thead>\n",
       "  <tbody>\n",
       "    <tr>\n",
       "      <th>0</th>\n",
       "      <td>1059</td>\n",
       "      <td>60</td>\n",
       "      <td>0</td>\n",
       "      <td>0.0</td>\n",
       "      <td>0</td>\n",
       "      <td>0</td>\n",
       "      <td>56.0</td>\n",
       "      <td>0</td>\n",
       "      <td>0</td>\n",
       "      <td>0</td>\n",
       "      <td>1175</td>\n",
       "      <td>[{'date': '2-12-2023', 'status': 'AVAILABLE-00...</td>\n",
       "      <td>11464</td>\n",
       "      <td>2023-10-03 22:13:07.781307</td>\n",
       "      <td>JBP</td>\n",
       "      <td>SRID</td>\n",
       "      <td>1A</td>\n",
       "      <td>54</td>\n",
       "      <td>33.0</td>\n",
       "    </tr>\n",
       "    <tr>\n",
       "      <th>1</th>\n",
       "      <td>626</td>\n",
       "      <td>50</td>\n",
       "      <td>0</td>\n",
       "      <td>0.0</td>\n",
       "      <td>0</td>\n",
       "      <td>0</td>\n",
       "      <td>34.0</td>\n",
       "      <td>0</td>\n",
       "      <td>0</td>\n",
       "      <td>0</td>\n",
       "      <td>710</td>\n",
       "      <td>[{'date': '2-12-2023', 'status': 'AVAILABLE-00...</td>\n",
       "      <td>11464</td>\n",
       "      <td>2023-10-03 22:13:07.781307</td>\n",
       "      <td>JBP</td>\n",
       "      <td>SRID</td>\n",
       "      <td>2A</td>\n",
       "      <td>54</td>\n",
       "      <td>33.0</td>\n",
       "    </tr>\n",
       "    <tr>\n",
       "      <th>2</th>\n",
       "      <td>441</td>\n",
       "      <td>40</td>\n",
       "      <td>0</td>\n",
       "      <td>0.0</td>\n",
       "      <td>0</td>\n",
       "      <td>0</td>\n",
       "      <td>24.0</td>\n",
       "      <td>0</td>\n",
       "      <td>0</td>\n",
       "      <td>0</td>\n",
       "      <td>505</td>\n",
       "      <td>[{'date': '2-12-2023', 'status': 'AVAILABLE-01...</td>\n",
       "      <td>11464</td>\n",
       "      <td>2023-10-03 22:13:07.781307</td>\n",
       "      <td>JBP</td>\n",
       "      <td>SRID</td>\n",
       "      <td>3A</td>\n",
       "      <td>54</td>\n",
       "      <td>33.0</td>\n",
       "    </tr>\n",
       "    <tr>\n",
       "      <th>3</th>\n",
       "      <td>125</td>\n",
       "      <td>20</td>\n",
       "      <td>0</td>\n",
       "      <td>0.0</td>\n",
       "      <td>0</td>\n",
       "      <td>0</td>\n",
       "      <td>0.0</td>\n",
       "      <td>0</td>\n",
       "      <td>0</td>\n",
       "      <td>0</td>\n",
       "      <td>145</td>\n",
       "      <td>[{'date': '2-12-2023', 'status': 'AVAILABLE-00...</td>\n",
       "      <td>11464</td>\n",
       "      <td>2023-10-03 22:13:07.781307</td>\n",
       "      <td>JBP</td>\n",
       "      <td>SRID</td>\n",
       "      <td>SL</td>\n",
       "      <td>54</td>\n",
       "      <td>33.0</td>\n",
       "    </tr>\n",
       "    <tr>\n",
       "      <th>4</th>\n",
       "      <td>1059</td>\n",
       "      <td>60</td>\n",
       "      <td>0</td>\n",
       "      <td>0.0</td>\n",
       "      <td>0</td>\n",
       "      <td>0</td>\n",
       "      <td>56.0</td>\n",
       "      <td>0</td>\n",
       "      <td>0</td>\n",
       "      <td>0</td>\n",
       "      <td>1175</td>\n",
       "      <td>[{'date': '2-12-2023', 'status': 'AVAILABLE-00...</td>\n",
       "      <td>11464</td>\n",
       "      <td>2023-10-03 22:13:07.781307</td>\n",
       "      <td>JBP</td>\n",
       "      <td>KKB</td>\n",
       "      <td>1A</td>\n",
       "      <td>69</td>\n",
       "      <td>49.0</td>\n",
       "    </tr>\n",
       "  </tbody>\n",
       "</table>\n",
       "</div>"
      ],
      "text/plain": [
       "   baseFare  reservationCharge  superfastCharge  fuelAmount  totalConcession  \\\n",
       "0      1059                 60                0         0.0                0   \n",
       "1       626                 50                0         0.0                0   \n",
       "2       441                 40                0         0.0                0   \n",
       "3       125                 20                0         0.0                0   \n",
       "4      1059                 60                0         0.0                0   \n",
       "\n",
       "   tatkalFare  serviceTax  otherCharge  cateringCharge  dynamicFare  \\\n",
       "0           0        56.0            0               0            0   \n",
       "1           0        34.0            0               0            0   \n",
       "2           0        24.0            0               0            0   \n",
       "3           0         0.0            0               0            0   \n",
       "4           0        56.0            0               0            0   \n",
       "\n",
       "   totalFare                                       availability  trainNumber  \\\n",
       "0       1175  [{'date': '2-12-2023', 'status': 'AVAILABLE-00...        11464   \n",
       "1        710  [{'date': '2-12-2023', 'status': 'AVAILABLE-00...        11464   \n",
       "2        505  [{'date': '2-12-2023', 'status': 'AVAILABLE-01...        11464   \n",
       "3        145  [{'date': '2-12-2023', 'status': 'AVAILABLE-00...        11464   \n",
       "4       1175  [{'date': '2-12-2023', 'status': 'AVAILABLE-00...        11464   \n",
       "\n",
       "                    timeStamp fromStnCode toStnCode classCode  distance  \\\n",
       "0  2023-10-03 22:13:07.781307         JBP      SRID        1A        54   \n",
       "1  2023-10-03 22:13:07.781307         JBP      SRID        2A        54   \n",
       "2  2023-10-03 22:13:07.781307         JBP      SRID        3A        54   \n",
       "3  2023-10-03 22:13:07.781307         JBP      SRID        SL        54   \n",
       "4  2023-10-03 22:13:07.781307         JBP       KKB        1A        69   \n",
       "\n",
       "   duration  \n",
       "0      33.0  \n",
       "1      33.0  \n",
       "2      33.0  \n",
       "3      33.0  \n",
       "4      49.0  "
      ]
     },
     "execution_count": 4,
     "metadata": {},
     "output_type": "execute_result"
    }
   ],
   "source": [
    "#Reading the dataset\n",
    "df = pd.read_csv(\"price_data.csv\")\n",
    "df.head(5)"
   ]
  },
  {
   "cell_type": "code",
   "execution_count": 6,
   "id": "d24cb225-d484-4f96-b451-3d13e7da5427",
   "metadata": {},
   "outputs": [],
   "source": [
    "# Few of the charges were found to be redundent\n",
    "df.drop(['fuelAmount', 'totalConcession', 'tatkalFare', 'otherCharge'], axis=1, inplace=True)"
   ]
  },
  {
   "cell_type": "code",
   "execution_count": 7,
   "id": "623f08d2-8562-479a-8a90-39e28f94c6c2",
   "metadata": {},
   "outputs": [
    {
     "data": {
      "text/plain": [
       "classCode  reservationCharge\n",
       "1A         20                     388\n",
       "           60                   36763\n",
       "2A         50                   83630\n",
       "           60                     389\n",
       "2S         15                    9398\n",
       "3A         40                   88049\n",
       "           50                     389\n",
       "CC         40                   10136\n",
       "SL         20                   97113\n",
       "           40                     388\n",
       "Name: totalFare, dtype: int64"
      ]
     },
     "execution_count": 7,
     "metadata": {},
     "output_type": "execute_result"
    }
   ],
   "source": [
    "# Reservation charge only depends on class code\n",
    "df_res = df.groupby(['classCode', 'reservationCharge'])['totalFare'].count()\n",
    "lst_res = df_res.index.to_list()\n",
    "df_res"
   ]
  },
  {
   "cell_type": "code",
   "execution_count": 8,
   "id": "47be9b52-677a-4cd4-b04f-df42bfe236d2",
   "metadata": {},
   "outputs": [
    {
     "data": {
      "text/plain": [
       "trainNumber  classCode  superfastCharge\n",
       "1127         2A         45                  41\n",
       "             3A         45                  41\n",
       "             SL         30                  41\n",
       "1128         2A         45                  99\n",
       "             3A         45                  99\n",
       "                                          ... \n",
       "22644        3A         45                 455\n",
       "             SL         30                 455\n",
       "22645        2A         45                 272\n",
       "             3A         45                 272\n",
       "             SL         30                 272\n",
       "Name: totalFare, Length: 1021, dtype: int64"
      ]
     },
     "execution_count": 8,
     "metadata": {},
     "output_type": "execute_result"
    }
   ],
   "source": [
    "# Superfast charge only depends on (trainNumber, classCode) pair\n",
    "df_sup = df[df.superfastCharge>0].groupby(['trainNumber','classCode', 'superfastCharge'])['totalFare'].count()\n",
    "lst_sup = df_sup.index.to_list()\n",
    "df_sup"
   ]
  },
  {
   "cell_type": "code",
   "execution_count": 9,
   "id": "9de7aa6b-504f-4c3a-b5c4-18986464db5b",
   "metadata": {},
   "outputs": [],
   "source": [
    "# Adding independent columns to indicate if the train has catering or dynamic charges. Though we are losing some\n",
    "# information but it is for model simplification\n",
    "df['if_offering_catering'] = df.cateringCharge>0\n",
    "df['if_dynamic_fare'] = df.dynamicFare>0"
   ]
  },
  {
   "cell_type": "code",
   "execution_count": 10,
   "id": "812938f2-926b-4e05-ba2f-72345db97b0d",
   "metadata": {},
   "outputs": [],
   "source": [
    "# subtract fixed charges and precompute them to be used later after model invocation\n",
    "df['fare_to_predict'] = df.totalFare-df.reservationCharge-df.superfastCharge"
   ]
  },
  {
   "cell_type": "code",
   "execution_count": 11,
   "id": "781fff0e-a712-4118-b0ff-c8588e7162d5",
   "metadata": {},
   "outputs": [],
   "source": [
    "# Removing unnecessary columns\n",
    "df_now = df[['classCode', 'if_offering_catering', 'if_dynamic_fare', 'distance', 'duration']]\n",
    "y = df.fare_to_predict"
   ]
  },
  {
   "cell_type": "code",
   "execution_count": 12,
   "id": "54c24aad-acf1-49e3-b9b7-7602fb03a828",
   "metadata": {},
   "outputs": [],
   "source": [
    "dummies = pd.get_dummies(df_now['classCode'])\n",
    "merged = pd.concat([df_now, dummies], axis='columns')\n",
    "X = merged.drop(['classCode'], axis='columns')"
   ]
  },
  {
   "cell_type": "code",
   "execution_count": 13,
   "id": "82dbb297-c53d-47ff-87f2-8a3a84528732",
   "metadata": {},
   "outputs": [],
   "source": [
    "X_train, X_test, y_train, y_test = train_test_split(X, y, test_size=0.2)\n",
    "lst = X_test.index.tolist()"
   ]
  },
  {
   "cell_type": "code",
   "execution_count": 16,
   "id": "b16b2871-f51c-4177-b0c2-b51e38d39307",
   "metadata": {},
   "outputs": [
    {
     "data": {
      "text/plain": [
       "Index(['if_offering_catering', 'if_dynamic_fare', 'distance', 'duration', '1A',\n",
       "       '2A', '2S', '3A', 'CC', 'SL'],\n",
       "      dtype='object')"
      ]
     },
     "execution_count": 16,
     "metadata": {},
     "output_type": "execute_result"
    }
   ],
   "source": [
    "X_train.columns"
   ]
  },
  {
   "cell_type": "code",
   "execution_count": 22,
   "id": "3c70b5cf-6fbc-484f-80fe-1eac438efed4",
   "metadata": {},
   "outputs": [],
   "source": [
    "# shuffling before building the model\n",
    "idxs = X_train.index.tolist()\n",
    "np.random.shuffle(idxs)\n",
    "X_train = X_train.loc[idxs]\n",
    "y_train = y_train.loc[idxs]"
   ]
  },
  {
   "cell_type": "code",
   "execution_count": 18,
   "id": "00a7d241-5027-4174-98d8-aa6f7fc982f0",
   "metadata": {},
   "outputs": [
    {
     "data": {
      "text/html": [
       "<div>\n",
       "<style scoped>\n",
       "    .dataframe tbody tr th:only-of-type {\n",
       "        vertical-align: middle;\n",
       "    }\n",
       "\n",
       "    .dataframe tbody tr th {\n",
       "        vertical-align: top;\n",
       "    }\n",
       "\n",
       "    .dataframe thead th {\n",
       "        text-align: right;\n",
       "    }\n",
       "</style>\n",
       "<table border=\"1\" class=\"dataframe\">\n",
       "  <thead>\n",
       "    <tr style=\"text-align: right;\">\n",
       "      <th></th>\n",
       "      <th>if_offering_catering</th>\n",
       "      <th>if_dynamic_fare</th>\n",
       "      <th>distance</th>\n",
       "      <th>duration</th>\n",
       "      <th>1A</th>\n",
       "      <th>2A</th>\n",
       "      <th>2S</th>\n",
       "      <th>3A</th>\n",
       "      <th>CC</th>\n",
       "      <th>SL</th>\n",
       "    </tr>\n",
       "  </thead>\n",
       "  <tbody>\n",
       "    <tr>\n",
       "      <th>222453</th>\n",
       "      <td>False</td>\n",
       "      <td>False</td>\n",
       "      <td>880</td>\n",
       "      <td>957.0</td>\n",
       "      <td>False</td>\n",
       "      <td>True</td>\n",
       "      <td>False</td>\n",
       "      <td>False</td>\n",
       "      <td>False</td>\n",
       "      <td>False</td>\n",
       "    </tr>\n",
       "  </tbody>\n",
       "</table>\n",
       "</div>"
      ],
      "text/plain": [
       "        if_offering_catering  if_dynamic_fare  distance  duration     1A  \\\n",
       "222453                 False            False       880     957.0  False   \n",
       "\n",
       "          2A     2S     3A     CC     SL  \n",
       "222453  True  False  False  False  False  "
      ]
     },
     "execution_count": 18,
     "metadata": {},
     "output_type": "execute_result"
    }
   ],
   "source": [
    "X_train.head(1)"
   ]
  },
  {
   "cell_type": "code",
   "execution_count": 23,
   "id": "60d6b474-7d7f-4d1f-8324-62a446d81059",
   "metadata": {},
   "outputs": [],
   "source": [
    "#Model specifications\n",
    "model_spec= {'model': GradientBoostingRegressor(),\n",
    "        'params': {\n",
    "            'n_estimators': [50, 100, 200],\n",
    "            'learning_rate': [0.01, 0.1, 0.2],\n",
    "            'max_depth': [3, 4, 5]\n",
    "        }}"
   ]
  },
  {
   "cell_type": "code",
   "execution_count": 27,
   "id": "af98b9a6-ae60-46f2-bad0-0c501a3d093c",
   "metadata": {},
   "outputs": [
    {
     "data": {
      "text/html": [
       "<style>#sk-container-id-3 {color: black;}#sk-container-id-3 pre{padding: 0;}#sk-container-id-3 div.sk-toggleable {background-color: white;}#sk-container-id-3 label.sk-toggleable__label {cursor: pointer;display: block;width: 100%;margin-bottom: 0;padding: 0.3em;box-sizing: border-box;text-align: center;}#sk-container-id-3 label.sk-toggleable__label-arrow:before {content: \"▸\";float: left;margin-right: 0.25em;color: #696969;}#sk-container-id-3 label.sk-toggleable__label-arrow:hover:before {color: black;}#sk-container-id-3 div.sk-estimator:hover label.sk-toggleable__label-arrow:before {color: black;}#sk-container-id-3 div.sk-toggleable__content {max-height: 0;max-width: 0;overflow: hidden;text-align: left;background-color: #f0f8ff;}#sk-container-id-3 div.sk-toggleable__content pre {margin: 0.2em;color: black;border-radius: 0.25em;background-color: #f0f8ff;}#sk-container-id-3 input.sk-toggleable__control:checked~div.sk-toggleable__content {max-height: 200px;max-width: 100%;overflow: auto;}#sk-container-id-3 input.sk-toggleable__control:checked~label.sk-toggleable__label-arrow:before {content: \"▾\";}#sk-container-id-3 div.sk-estimator input.sk-toggleable__control:checked~label.sk-toggleable__label {background-color: #d4ebff;}#sk-container-id-3 div.sk-label input.sk-toggleable__control:checked~label.sk-toggleable__label {background-color: #d4ebff;}#sk-container-id-3 input.sk-hidden--visually {border: 0;clip: rect(1px 1px 1px 1px);clip: rect(1px, 1px, 1px, 1px);height: 1px;margin: -1px;overflow: hidden;padding: 0;position: absolute;width: 1px;}#sk-container-id-3 div.sk-estimator {font-family: monospace;background-color: #f0f8ff;border: 1px dotted black;border-radius: 0.25em;box-sizing: border-box;margin-bottom: 0.5em;}#sk-container-id-3 div.sk-estimator:hover {background-color: #d4ebff;}#sk-container-id-3 div.sk-parallel-item::after {content: \"\";width: 100%;border-bottom: 1px solid gray;flex-grow: 1;}#sk-container-id-3 div.sk-label:hover label.sk-toggleable__label {background-color: #d4ebff;}#sk-container-id-3 div.sk-serial::before {content: \"\";position: absolute;border-left: 1px solid gray;box-sizing: border-box;top: 0;bottom: 0;left: 50%;z-index: 0;}#sk-container-id-3 div.sk-serial {display: flex;flex-direction: column;align-items: center;background-color: white;padding-right: 0.2em;padding-left: 0.2em;position: relative;}#sk-container-id-3 div.sk-item {position: relative;z-index: 1;}#sk-container-id-3 div.sk-parallel {display: flex;align-items: stretch;justify-content: center;background-color: white;position: relative;}#sk-container-id-3 div.sk-item::before, #sk-container-id-3 div.sk-parallel-item::before {content: \"\";position: absolute;border-left: 1px solid gray;box-sizing: border-box;top: 0;bottom: 0;left: 50%;z-index: -1;}#sk-container-id-3 div.sk-parallel-item {display: flex;flex-direction: column;z-index: 1;position: relative;background-color: white;}#sk-container-id-3 div.sk-parallel-item:first-child::after {align-self: flex-end;width: 50%;}#sk-container-id-3 div.sk-parallel-item:last-child::after {align-self: flex-start;width: 50%;}#sk-container-id-3 div.sk-parallel-item:only-child::after {width: 0;}#sk-container-id-3 div.sk-dashed-wrapped {border: 1px dashed gray;margin: 0 0.4em 0.5em 0.4em;box-sizing: border-box;padding-bottom: 0.4em;background-color: white;}#sk-container-id-3 div.sk-label label {font-family: monospace;font-weight: bold;display: inline-block;line-height: 1.2em;}#sk-container-id-3 div.sk-label-container {text-align: center;}#sk-container-id-3 div.sk-container {/* jupyter's `normalize.less` sets `[hidden] { display: none; }` but bootstrap.min.css set `[hidden] { display: none !important; }` so we also need the `!important` here to be able to override the default hidden behavior on the sphinx rendered scikit-learn.org. See: https://github.com/scikit-learn/scikit-learn/issues/21755 */display: inline-block !important;position: relative;}#sk-container-id-3 div.sk-text-repr-fallback {display: none;}</style><div id=\"sk-container-id-3\" class=\"sk-top-container\"><div class=\"sk-text-repr-fallback\"><pre>RandomizedSearchCV(cv=3, estimator=GradientBoostingRegressor(), n_iter=5,\n",
       "                   param_distributions={&#x27;learning_rate&#x27;: [0.01, 0.1, 0.2],\n",
       "                                        &#x27;max_depth&#x27;: [3, 4, 5],\n",
       "                                        &#x27;n_estimators&#x27;: [50, 100, 200]})</pre><b>In a Jupyter environment, please rerun this cell to show the HTML representation or trust the notebook. <br />On GitHub, the HTML representation is unable to render, please try loading this page with nbviewer.org.</b></div><div class=\"sk-container\" hidden><div class=\"sk-item sk-dashed-wrapped\"><div class=\"sk-label-container\"><div class=\"sk-label sk-toggleable\"><input class=\"sk-toggleable__control sk-hidden--visually\" id=\"sk-estimator-id-5\" type=\"checkbox\" ><label for=\"sk-estimator-id-5\" class=\"sk-toggleable__label sk-toggleable__label-arrow\">RandomizedSearchCV</label><div class=\"sk-toggleable__content\"><pre>RandomizedSearchCV(cv=3, estimator=GradientBoostingRegressor(), n_iter=5,\n",
       "                   param_distributions={&#x27;learning_rate&#x27;: [0.01, 0.1, 0.2],\n",
       "                                        &#x27;max_depth&#x27;: [3, 4, 5],\n",
       "                                        &#x27;n_estimators&#x27;: [50, 100, 200]})</pre></div></div></div><div class=\"sk-parallel\"><div class=\"sk-parallel-item\"><div class=\"sk-item\"><div class=\"sk-label-container\"><div class=\"sk-label sk-toggleable\"><input class=\"sk-toggleable__control sk-hidden--visually\" id=\"sk-estimator-id-6\" type=\"checkbox\" ><label for=\"sk-estimator-id-6\" class=\"sk-toggleable__label sk-toggleable__label-arrow\">estimator: GradientBoostingRegressor</label><div class=\"sk-toggleable__content\"><pre>GradientBoostingRegressor()</pre></div></div></div><div class=\"sk-serial\"><div class=\"sk-item\"><div class=\"sk-estimator sk-toggleable\"><input class=\"sk-toggleable__control sk-hidden--visually\" id=\"sk-estimator-id-7\" type=\"checkbox\" ><label for=\"sk-estimator-id-7\" class=\"sk-toggleable__label sk-toggleable__label-arrow\">GradientBoostingRegressor</label><div class=\"sk-toggleable__content\"><pre>GradientBoostingRegressor()</pre></div></div></div></div></div></div></div></div></div></div>"
      ],
      "text/plain": [
       "RandomizedSearchCV(cv=3, estimator=GradientBoostingRegressor(), n_iter=5,\n",
       "                   param_distributions={'learning_rate': [0.01, 0.1, 0.2],\n",
       "                                        'max_depth': [3, 4, 5],\n",
       "                                        'n_estimators': [50, 100, 200]})"
      ]
     },
     "execution_count": 27,
     "metadata": {},
     "output_type": "execute_result"
    }
   ],
   "source": [
    "#Training the model\n",
    "model = clf = RandomizedSearchCV(model_spec['model'], model_spec['params'], cv=3, return_train_score=False, n_iter=5)\n",
    "model.fit(X_train,y_train)"
   ]
  },
  {
   "cell_type": "code",
   "execution_count": 30,
   "id": "14017073-cda7-493f-89dc-414bd318b460",
   "metadata": {},
   "outputs": [
    {
     "name": "stdout",
     "output_type": "stream",
     "text": [
      "Predicted :  [ 681.64738257  693.63321458  429.65826522 ...  294.5734711    87.83629212\n",
      " 1342.7058913 ]\n"
     ]
    }
   ],
   "source": [
    "#Testing the Model's Accuracy\n",
    "from sklearn.metrics import accuracy_score,confusion_matrix\n",
    "y_pred = model.predict(X_test)\n",
    "# print( \"Confusion Matrix \\n \",accuracy = accuracy_score(y_test, y_pred)\n",
    "print(\"Predicted : \" , y_pred)"
   ]
  },
  {
   "cell_type": "code",
   "execution_count": 32,
   "id": "eb2ed601-9552-4d8d-8aa7-228fffa961ce",
   "metadata": {},
   "outputs": [
    {
     "name": "stdout",
     "output_type": "stream",
     "text": [
      "The accuracy of our model is 0.9775302651738682%\n"
     ]
    }
   ],
   "source": [
    "from sklearn.metrics import r2_score\n",
    "score = r2_score(y_test, y_pred)\n",
    "print(\"The accuracy of our model is {}%\".format(score))"
   ]
  },
  {
   "cell_type": "code",
   "execution_count": 34,
   "id": "0837e5c4-9f9f-4ec2-a03c-a5e500344577",
   "metadata": {},
   "outputs": [],
   "source": [
    "#Saving the Model\n",
    "import pickle\n",
    "filename = 'GradientBoostingRegressor.pkl'\n",
    "pickle.dump(model, open(filename, 'wb'))\n",
    " "
   ]
  },
  {
   "cell_type": "code",
   "execution_count": null,
   "id": "33762d59-e424-40c4-aeb4-2c31660ab8e8",
   "metadata": {},
   "outputs": [],
   "source": []
  },
  {
   "cell_type": "code",
   "execution_count": null,
   "id": "c036e471-3df1-4927-8057-af9c3bed90f0",
   "metadata": {},
   "outputs": [],
   "source": []
  },
  {
   "cell_type": "code",
   "execution_count": 64,
   "id": "94960537-b038-4ba9-8d8b-b57c2fb3d19e",
   "metadata": {},
   "outputs": [
    {
     "data": {
      "text/plain": [
       "81328    4505\n",
       "Name: fare_to_predict, dtype: int64"
      ]
     },
     "execution_count": 64,
     "metadata": {},
     "output_type": "execute_result"
    }
   ],
   "source": [
    "# X_train.head(1)\n",
    "y_train.head(1)"
   ]
  },
  {
   "cell_type": "code",
   "execution_count": 63,
   "id": "10acedab-022b-4ef8-a34c-c800b7a4c3dc",
   "metadata": {},
   "outputs": [
    {
     "name": "stdout",
     "output_type": "stream",
     "text": [
      "[4521.6552083]\n"
     ]
    },
    {
     "name": "stderr",
     "output_type": "stream",
     "text": [
      "/home/abhijithmallya/RailwayPricePrediction/venv/lib/python3.10/site-packages/sklearn/base.py:465: UserWarning: X does not have valid feature names, but GradientBoostingRegressor was fitted with feature names\n",
      "  warnings.warn(\n"
     ]
    }
   ],
   "source": [
    "#Predicting for a random use case \n",
    "import numpy as np\n",
    "\n",
    "# Create a NumPy array with the input features\n",
    "input_features = np.array([False, False, 1755, 1620, True, False, False, False, False, False])\n",
    "\n",
    "# Reshape the array to have one row and multiple columns\n",
    "input_features_reshaped = input_features.reshape(1, -1)\n",
    "\n",
    "# Use the input array for prediction\n",
    "result = model.predict(input_features_reshaped)\n",
    "\n",
    "# Print or use the result as needed\n",
    "print(result)\n"
   ]
  },
  {
   "cell_type": "code",
   "execution_count": null,
   "id": "c7c1a35c-6204-49b2-807f-5e858f223bc4",
   "metadata": {},
   "outputs": [],
   "source": []
  }
 ],
 "metadata": {
  "kernelspec": {
   "display_name": "Python 3 (ipykernel)",
   "language": "python",
   "name": "python3"
  },
  "language_info": {
   "codemirror_mode": {
    "name": "ipython",
    "version": 3
   },
   "file_extension": ".py",
   "mimetype": "text/x-python",
   "name": "python",
   "nbconvert_exporter": "python",
   "pygments_lexer": "ipython3",
   "version": "3.10.12"
  }
 },
 "nbformat": 4,
 "nbformat_minor": 5
}
